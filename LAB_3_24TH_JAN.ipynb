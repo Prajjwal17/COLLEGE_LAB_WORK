{
 "cells": [
  {
   "cell_type": "code",
   "execution_count": 71,
   "id": "b7376865",
   "metadata": {},
   "outputs": [],
   "source": [
    "mydict = {'k1':'apple','k2':'orange','k3':'grey'}\n"
   ]
  },
  {
   "cell_type": "code",
   "execution_count": 4,
   "id": "c9669493",
   "metadata": {},
   "outputs": [
    {
     "data": {
      "text/plain": [
       "'grey'"
      ]
     },
     "execution_count": 4,
     "metadata": {},
     "output_type": "execute_result"
    }
   ],
   "source": [
    "mydict['k3']\n"
   ]
  },
  {
   "cell_type": "code",
   "execution_count": 5,
   "id": "b771150c",
   "metadata": {},
   "outputs": [],
   "source": [
    "mydict = {'k1':{'kk1':'fruits','kk2':'juice'},'k2':'32','k3':'bell'}"
   ]
  },
  {
   "cell_type": "code",
   "execution_count": 9,
   "id": "e6c6e1ff",
   "metadata": {},
   "outputs": [
    {
     "data": {
      "text/plain": [
       "'juice'"
      ]
     },
     "execution_count": 9,
     "metadata": {},
     "output_type": "execute_result"
    }
   ],
   "source": [
    "mydict['k1']['kk2']"
   ]
  },
  {
   "cell_type": "code",
   "execution_count": 13,
   "id": "8ae8df00",
   "metadata": {},
   "outputs": [],
   "source": [
    "mydict1={}\n",
    "mydict1['eng']=99\n",
    "mydict1['mat']=95\n",
    "mydict1['tam']=89"
   ]
  },
  {
   "cell_type": "code",
   "execution_count": 19,
   "id": "a4c1babb",
   "metadata": {},
   "outputs": [
    {
     "data": {
      "text/plain": [
       "{'eng': 99, 'mat': 95, 'tam': 89}"
      ]
     },
     "execution_count": 19,
     "metadata": {},
     "output_type": "execute_result"
    }
   ],
   "source": [
    "mydict1"
   ]
  },
  {
   "cell_type": "code",
   "execution_count": 20,
   "id": "30b5974f",
   "metadata": {},
   "outputs": [
    {
     "data": {
      "text/plain": [
       "dict_keys(['eng', 'mat', 'tam'])"
      ]
     },
     "execution_count": 20,
     "metadata": {},
     "output_type": "execute_result"
    }
   ],
   "source": [
    "mydict1.keys()\n"
   ]
  },
  {
   "cell_type": "code",
   "execution_count": 21,
   "id": "5e609bc8",
   "metadata": {},
   "outputs": [
    {
     "data": {
      "text/plain": [
       "dict_items([('eng', 99), ('mat', 95), ('tam', 89)])"
      ]
     },
     "execution_count": 21,
     "metadata": {},
     "output_type": "execute_result"
    }
   ],
   "source": [
    "mydict1.items()"
   ]
  },
  {
   "cell_type": "code",
   "execution_count": 22,
   "id": "41cf9cc5",
   "metadata": {},
   "outputs": [
    {
     "data": {
      "text/plain": [
       "dict_values([99, 95, 89])"
      ]
     },
     "execution_count": 22,
     "metadata": {},
     "output_type": "execute_result"
    }
   ],
   "source": [
    "mydict1.values()"
   ]
  },
  {
   "cell_type": "code",
   "execution_count": 26,
   "id": "11adafe7",
   "metadata": {},
   "outputs": [
    {
     "name": "stdout",
     "output_type": "stream",
     "text": [
      "Keys : {} and the values : {}.format(mydict1)\n",
      "Keys : {} and the values : {}.format(mydict1)\n",
      "Keys : {} and the values : {}.format(mydict1)\n"
     ]
    }
   ],
   "source": [
    "for k,v in mydict1.items():\n",
    "    print(\"Keys : {} and the values : {}.format(mydict1)\")"
   ]
  },
  {
   "cell_type": "code",
   "execution_count": 27,
   "id": "7ae5c24b",
   "metadata": {},
   "outputs": [
    {
     "data": {
      "text/plain": [
       "'one'"
      ]
     },
     "execution_count": 27,
     "metadata": {},
     "output_type": "execute_result"
    }
   ],
   "source": [
    "tup=['one',23,2.2,'a',21]\n"
   ]
  },
  {
   "cell_type": "code",
   "execution_count": 31,
   "id": "eb90ef27",
   "metadata": {},
   "outputs": [],
   "source": [
    "tup[1]=3"
   ]
  },
  {
   "cell_type": "code",
   "execution_count": 37,
   "id": "3b7b05fc",
   "metadata": {},
   "outputs": [
    {
     "data": {
      "text/plain": [
       "['one', 3, 2.2, 'a', 21]"
      ]
     },
     "execution_count": 37,
     "metadata": {},
     "output_type": "execute_result"
    }
   ],
   "source": [
    "tup"
   ]
  },
  {
   "cell_type": "code",
   "execution_count": 33,
   "id": "1b01f685",
   "metadata": {},
   "outputs": [],
   "source": [
    "x = set()"
   ]
  },
  {
   "cell_type": "code",
   "execution_count": 34,
   "id": "633ff237",
   "metadata": {},
   "outputs": [],
   "source": [
    "x.add('a')\n",
    "x.add('b')"
   ]
  },
  {
   "cell_type": "code",
   "execution_count": 41,
   "id": "785d38ae",
   "metadata": {},
   "outputs": [
    {
     "data": {
      "text/plain": [
       "{'a', 'b'}"
      ]
     },
     "execution_count": 41,
     "metadata": {},
     "output_type": "execute_result"
    }
   ],
   "source": [
    "x"
   ]
  },
  {
   "cell_type": "code",
   "execution_count": 43,
   "id": "0592c70b",
   "metadata": {},
   "outputs": [
    {
     "data": {
      "text/plain": [
       "5"
      ]
     },
     "execution_count": 43,
     "metadata": {},
     "output_type": "execute_result"
    }
   ],
   "source": [
    "list=[1,2,3,4,5,4,3,2,1,1,2,3,4,4,4] \n",
    "list.count(4)"
   ]
  },
  {
   "cell_type": "code",
   "execution_count": 44,
   "id": "ae4d697f",
   "metadata": {},
   "outputs": [
    {
     "name": "stdout",
     "output_type": "stream",
     "text": [
      "FUNCTIONS\n"
     ]
    }
   ],
   "source": [
    "print(\"FUNCTIONS\")"
   ]
  },
  {
   "cell_type": "code",
   "execution_count": 53,
   "id": "9bad162d",
   "metadata": {},
   "outputs": [
    {
     "name": "stdout",
     "output_type": "stream",
     "text": [
      "sum of given two no is 5\n"
     ]
    }
   ],
   "source": [
    "def addn(a,b):\n",
    "    sum = a+b\n",
    "    print(\"sum of given two no is\",sum)\n",
    "addn(2,3)    "
   ]
  },
  {
   "cell_type": "code",
   "execution_count": 56,
   "id": "697e78b9",
   "metadata": {},
   "outputs": [
    {
     "name": "stdout",
     "output_type": "stream",
     "text": [
      "sub of given two no is -1\n"
     ]
    }
   ],
   "source": [
    "def subn(x,y):\n",
    "    print(\"sub of given two no is\",x-y)\n",
    "subn(2,3)"
   ]
  },
  {
   "cell_type": "code",
   "execution_count": 58,
   "id": "361b3eab",
   "metadata": {},
   "outputs": [
    {
     "data": {
      "text/plain": [
       "10"
      ]
     },
     "execution_count": 58,
     "metadata": {},
     "output_type": "execute_result"
    }
   ],
   "source": [
    "def mul(a,b):\n",
    "    return (a*b)+(a*a)\n",
    "mul(2,3)"
   ]
  },
  {
   "cell_type": "code",
   "execution_count": 61,
   "id": "a48e3cae",
   "metadata": {},
   "outputs": [
    {
     "name": "stdout",
     "output_type": "stream",
     "text": [
      "enter num1:2\n",
      "enter num2:3\n",
      "10\n"
     ]
    }
   ],
   "source": [
    "x=int(input(\"enter num1:\"))\n",
    "y=int(input(\"enter num2:\"))\n",
    "def mul(a,b):\n",
    "    return (a*b)+(a*a)\n",
    "res = mul(x,y)\n",
    "print(res)"
   ]
  },
  {
   "cell_type": "code",
   "execution_count": 66,
   "id": "5016a403",
   "metadata": {},
   "outputs": [
    {
     "data": {
      "text/plain": [
       "([2, 4, 6, 8, 10, 12, 14, 16, 18, 20], [3, 6, 9, 12, 15, 18], [5, 10, 15, 20])"
      ]
     },
     "execution_count": 66,
     "metadata": {},
     "output_type": "execute_result"
    }
   ],
   "source": [
    "def numsort(lst):\n",
    "    lst2=[]\n",
    "    lst3=[]\n",
    "    lst5=[]\n",
    "    for el in lst:\n",
    "        if el%2 == 0:\n",
    "            lst2.append(el)\n",
    "        if el%3 == 0:\n",
    "            lst3.append(el)\n",
    "        if el%5 == 0:\n",
    "            lst5.append(el)  \n",
    "    return lst2,lst3,lst5\n",
    "lst=[1,2,3,4,5,6,7,8,9,10,11,12,13,14,15,16,17,18,19,20]\n",
    "numsort(lst)"
   ]
  },
  {
   "cell_type": "code",
   "execution_count": 67,
   "id": "b447f3b7",
   "metadata": {},
   "outputs": [
    {
     "name": "stdout",
     "output_type": "stream",
     "text": [
      "49\n"
     ]
    }
   ],
   "source": [
    "import random as rd\n",
    "print(rd.randint(0,100))"
   ]
  },
  {
   "cell_type": "code",
   "execution_count": 69,
   "id": "d00e877e",
   "metadata": {},
   "outputs": [
    {
     "name": "stdout",
     "output_type": "stream",
     "text": [
      "[71, 59, 3, 70, 20, 0, 4, 41, 15, 94, 19, 26, 83, 33, 47, 31, 37, 61, 67, 14]\n"
     ]
    }
   ],
   "source": [
    "import random as rd\n",
    "lst=[]\n",
    "for i in range(0,20):\n",
    "    temp = rd.randint(0,100)\n",
    "    lst.append(temp)\n",
    "print(lst)"
   ]
  },
  {
   "cell_type": "code",
   "execution_count": 70,
   "id": "3bbd009a",
   "metadata": {},
   "outputs": [
    {
     "name": "stdout",
     "output_type": "stream",
     "text": [
      "[49, 40, 87, 3, 8, 53, 56, 59, 52, 48, 50, 28, 81, 2, 53, 11, 46, 25, 28, 34]\n"
     ]
    },
    {
     "data": {
      "text/plain": [
       "([40, 8, 56, 52, 48, 50, 28, 2, 46, 28, 34], [87, 3, 48, 81], [40, 50, 25])"
      ]
     },
     "execution_count": 70,
     "metadata": {},
     "output_type": "execute_result"
    }
   ],
   "source": [
    "import random as rd\n",
    "lst=[]\n",
    "for i in range(0,20):\n",
    "    temp = rd.randint(0,100)\n",
    "    lst.append(temp)\n",
    "print(lst)\n",
    "def numsort(lst):\n",
    "    lst2=[]\n",
    "    lst3=[]\n",
    "    lst5=[]\n",
    "    for el in lst:\n",
    "        if el%2 == 0:\n",
    "            lst2.append(el)\n",
    "        if el%3 == 0:\n",
    "            lst3.append(el)\n",
    "        if el%5 == 0:\n",
    "            lst5.append(el)  \n",
    "    return lst2,lst3,lst5\n",
    "numsort(lst)"
   ]
  },
  {
   "cell_type": "code",
   "execution_count": 76,
   "id": "f0970f98",
   "metadata": {},
   "outputs": [
    {
     "name": "stdout",
     "output_type": "stream",
     "text": [
      "['T', 'H', 'T', 'H', 'T', 'T', 'H', 'T', 'T', 'T', 'H', 'T', 'H', 'H', 'T']\n"
     ]
    }
   ],
   "source": [
    "mylist = [\"H\",\"T\"]\n",
    "print(rd.choices(mylist, weights = [2,3], k = 15))"
   ]
  },
  {
   "cell_type": "code",
   "execution_count": 102,
   "id": "77cc20d3",
   "metadata": {},
   "outputs": [
    {
     "name": "stdout",
     "output_type": "stream",
     "text": [
      "[1, 2, 3, 4, 5, 6, 7, 8, 9, 10]\n",
      "[1, 4, 9, 16, 25, 36, 49, 64, 81, 100]\n"
     ]
    },
    {
     "data": {
      "image/png": "[encoded data removed]",
      "text/plain": [
       "<Figure size 640x480 with 1 Axes>"
      ]
     },
     "metadata": {},
     "output_type": "display_data"
    }
   ],
   "source": [
    "import matplotlib.pyplot as plt\n",
    "x=[1,2,3,4,5,6,7,8,9,10]\n",
    "print(x)\n",
    "y=[]\n",
    "for el in x:\n",
    "    temp = el**2\n",
    "    y.append(temp)\n",
    "print(y)\n",
    "plt.plot(x,y)\n",
    "plt.show()"
   ]
  },
  {
   "cell_type": "code",
   "execution_count": 111,
   "id": "3d3fe672",
   "metadata": {},
   "outputs": [
    {
     "name": "stdout",
     "output_type": "stream",
     "text": [
      "[1, 2, 3, 4, 5, 6, 7, 8, 9, 10]\n"
     ]
    },
    {
     "data": {
      "image/png": "[encoded data removed]",
      "text/plain": [
       "<Figure size 640x480 with 1 Axes>"
      ]
     },
     "metadata": {},
     "output_type": "display_data"
    }
   ],
   "source": [
    "import matplotlib.pyplot as plt\n",
    "x=[1,2,3,4,5,6,7,8,9,10]\n",
    "print(x)\n",
    "y=[]\n",
    "for el in x:\n",
    "    temp = el**2\n",
    "    y.append(temp)\n",
    "#print(y)\n",
    "plt.bar(x,y)\n",
    "plt.title(\"Blahhhhhhhhhh\")\n",
    "plt.xlabel(\"blah\")\n",
    "plt.ylabel(\"blah...blah\")\n",
    "plt.show()"
   ]
  },
  {
   "cell_type": "code",
   "execution_count": null,
   "id": "f7da3628",
   "metadata": {},
   "outputs": [],
   "source": [
    "# RANDOM FUNCTION"
   ]
  },
  {
   "cell_type": "code",
   "execution_count": 6,
   "id": "3f99a6a0",
   "metadata": {},
   "outputs": [
    {
     "name": "stdout",
     "output_type": "stream",
     "text": [
      "5\n"
     ]
    }
   ],
   "source": [
    "import random as rd\n",
    "\n",
    "print(rd.randint(1,7))"
   ]
  },
  {
   "cell_type": "code",
   "execution_count": 7,
   "id": "7885fa9d",
   "metadata": {},
   "outputs": [
    {
     "name": "stdout",
     "output_type": "stream",
     "text": [
      "[89, 86, 51, 64, 78, 50, 70, 84, 61, 35, 99, 80, 91, 26, 42, 58, 86, 9, 30, 74]\n"
     ]
    }
   ],
   "source": [
    "import random as rd\n",
    "lst=[]\n",
    "for i in range(0,20):\n",
    "    lst.append(rd.randint(1,100))\n",
    "print(lst)    "
   ]
  },
  {
   "cell_type": "code",
   "execution_count": 8,
   "id": "51b9ea18",
   "metadata": {},
   "outputs": [],
   "source": [
    "def greeting():\n",
    "    print(\"Welcome to India\")"
   ]
  },
  {
   "cell_type": "code",
   "execution_count": 10,
   "id": "721dec92",
   "metadata": {},
   "outputs": [
    {
     "name": "stdout",
     "output_type": "stream",
     "text": [
      "Welcome to India\n"
     ]
    }
   ],
   "source": [
    "greeting()"
   ]
  },
  {
   "cell_type": "code",
   "execution_count": 19,
   "id": "2156ab2c",
   "metadata": {},
   "outputs": [],
   "source": [
    "def my_cal(n1,n2):\n",
    "    print(\"{} Added with {} is : {}\".format(n1,n2,n1+n2))\n",
    "    print(\"{} Sub with {} is : {}\".format(n1,n2,n1-n2))\n",
    "    print(\"{} Mul with {} is : {}\".format(n1,n2,n1*n2))\n",
    "    print(\"{} Div with {} is : {}\".format(n1,n2,n1/n2))"
   ]
  },
  {
   "cell_type": "code",
   "execution_count": 20,
   "id": "8ff52a68",
   "metadata": {},
   "outputs": [
    {
     "name": "stdout",
     "output_type": "stream",
     "text": [
      "7 Added with 8 is : 15\n",
      "7 Sub with 8 is : -1\n",
      "7 Mul with 8 is : 56\n",
      "7 Div with 8 is : 0.875\n"
     ]
    }
   ],
   "source": [
    "my_cal(7,8)"
   ]
  },
  {
   "cell_type": "code",
   "execution_count": 21,
   "id": "da9ce0db",
   "metadata": {},
   "outputs": [],
   "source": [
    "def my_cal(n1,n2):\n",
    "    return n1+n2"
   ]
  },
  {
   "cell_type": "code",
   "execution_count": 22,
   "id": "c5e40568",
   "metadata": {},
   "outputs": [
    {
     "data": {
      "text/plain": [
       "16"
      ]
     },
     "execution_count": 22,
     "metadata": {},
     "output_type": "execute_result"
    }
   ],
   "source": [
    "my_cal(6,10)"
   ]
  },
  {
   "cell_type": "code",
   "execution_count": 23,
   "id": "417ce222",
   "metadata": {},
   "outputs": [],
   "source": [
    "# Write a program in which input should be a,b and in that gives \n",
    "# a*b then store it into another function which gives another result as a*b/c"
   ]
  },
  {
   "cell_type": "code",
   "execution_count": 42,
   "id": "b53d1b34",
   "metadata": {},
   "outputs": [],
   "source": [
    "def my_cal1(a,b):\n",
    "    result = a*b\n",
    "    return result\n",
    "\n",
    "def my_cal2(c):\n",
    "    return result/c"
   ]
  },
  {
   "cell_type": "code",
   "execution_count": 43,
   "id": "4a0a5b3b",
   "metadata": {},
   "outputs": [
    {
     "data": {
      "text/plain": [
       "14.0"
      ]
     },
     "execution_count": 43,
     "metadata": {},
     "output_type": "execute_result"
    }
   ],
   "source": [
    "result = my_cal1(7,8)\n",
    "my_cal2(4)"
   ]
  },
  {
   "cell_type": "code",
   "execution_count": 45,
   "id": "9bb15599",
   "metadata": {},
   "outputs": [
    {
     "name": "stdout",
     "output_type": "stream",
     "text": [
      "[7, 12, 22, 27, 2, 11, 16, 88, 40, 9, 94, 91, 61, 94, 97, 62, 50, 51, 42, 88]\n"
     ]
    }
   ],
   "source": [
    "import random as rd\n",
    "lst=[]\n",
    "for i in range(0,20):\n",
    "    lst.append(rd.randint(1,100))\n",
    "print(lst)    "
   ]
  },
  {
   "cell_type": "code",
   "execution_count": 47,
   "id": "1dd6869e",
   "metadata": {},
   "outputs": [
    {
     "name": "stdout",
     "output_type": "stream",
     "text": [
      "Numbers divisible by 2: [12, 22, 2, 16, 88, 40, 94, 94, 62, 50, 42, 88]\n",
      "Numbers divisible by 3: [27, 9, 51]\n",
      "Other numbers: [7, 11, 91, 61, 97]\n"
     ]
    }
   ],
   "source": [
    "import random \n",
    "\n",
    "# Using the existing list \n",
    "numbers = [7, 12, 22, 27, 2, 11, 16, 88, 40, 9, 94, 91, 61, 94, 97, 62, 50, 51, 42, 88]\n",
    "\n",
    "# Create empty lists to store the numbers \n",
    "divisible_by_2 = []\n",
    "divisible_by_3 = []\n",
    "other_numbers = []\n",
    "\n",
    "for number in numbers:\n",
    "    if number % 2 == 0:\n",
    "        divisible_by_2.append(number)\n",
    "    elif number % 3 == 0:\n",
    "        divisible_by_3.append(number)\n",
    "    else: \n",
    "        other_numbers.append(number)    \n",
    "        \n",
    "# Printing the resultant lists\n",
    "print(\"Numbers divisible by 2:\", divisible_by_2)\n",
    "print(\"Numbers divisible by 3:\", divisible_by_3)\n",
    "print(\"Other numbers:\", other_numbers)"
   ]
  },
  {
   "cell_type": "code",
   "execution_count": 49,
   "id": "994f8e3d",
   "metadata": {},
   "outputs": [
    {
     "name": "stdout",
     "output_type": "stream",
     "text": [
      "['H', 'T', 'H', 'H', 'T', 'H', 'H', 'H', 'H', 'H']\n",
      "['H', 'T', 'H', 'T', 'H', 'T', 'T', 'T', 'H', 'T']\n"
     ]
    }
   ],
   "source": [
    "mylist = [\"H\", \"T\"]\n",
    "c1=rd.choices(mylist,weights=[1,1],k=10)\n",
    "c2=rd.choices(mylist,weights=[1,1],k=10) \n",
    "print(c1)\n",
    "print(c2)"
   ]
  },
  {
   "cell_type": "code",
   "execution_count": null,
   "id": "12a07ec9",
   "metadata": {},
   "outputs": [],
   "source": []
  }
 ],
 "metadata": {
  "kernelspec": {
   "display_name": "Python 3 (ipykernel)",
   "language": "python",
   "name": "python3"
  },
  "language_info": {
   "codemirror_mode": {
    "name": "ipython",
    "version": 3
   },
   "file_extension": ".py",
   "mimetype": "text/x-python",
   "name": "python",
   "nbconvert_exporter": "python",
   "pygments_lexer": "ipython3",
   "version": "3.11.5"
  }
 },
 "nbformat": 4,
 "nbformat_minor": 5
}
